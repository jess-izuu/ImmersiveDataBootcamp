{
  "nbformat": 4,
  "nbformat_minor": 0,
  "metadata": {
    "colab": {
      "name": "12Princesses",
      "provenance": [],
      "collapsed_sections": [],
      "authorship_tag": "ABX9TyOMU53rxkShfGhA3R2Ja7D0",
      "include_colab_link": true
    },
    "kernelspec": {
      "name": "python3",
      "display_name": "Python 3"
    }
  },
  "cells": [
    {
      "cell_type": "markdown",
      "metadata": {
        "id": "view-in-github",
        "colab_type": "text"
      },
      "source": [
        "<a href=\"https://colab.research.google.com/github/jess-izuu/ImmersiveDataBootcamp/blob/master/12Princesses.ipynb\" target=\"_parent\"><img src=\"https://colab.research.google.com/assets/colab-badge.svg\" alt=\"Open In Colab\"/></a>"
      ]
    },
    {
      "cell_type": "code",
      "metadata": {
        "id": "y19X19yWzDxb",
        "colab_type": "code",
        "colab": {
          "base_uri": "https://localhost:8080/",
          "height": 71
        },
        "outputId": "744abcf6-0c29-426f-ac92-d3be8992406a"
      },
      "source": [
        "import nltk\n",
        "from nltk.tokenize import word_tokenize\n",
        "from nltk.tokenize import sent_tokenize\n",
        "from nltk.tokenize import TweetTokenizer\n",
        "from nltk.probability import FreqDist\n",
        "from nltk.corpus import stopwords\n",
        "from nltk.stem import WordNetLemmatizer\n",
        "from nltk.sentiment.vader import SentimentIntensityAnalyzer\n",
        "\n",
        "#this is sample data\n",
        "from nltk.corpus import names  \n",
        "\n",
        "from string import punctuation"
      ],
      "execution_count": null,
      "outputs": [
        {
          "output_type": "stream",
          "text": [
            "/usr/local/lib/python3.6/dist-packages/nltk/twitter/__init__.py:20: UserWarning: The twython library has not been installed. Some functionality from the twitter package will not be available.\n",
            "  warnings.warn(\"The twython library has not been installed. \"\n"
          ],
          "name": "stderr"
        }
      ]
    },
    {
      "cell_type": "code",
      "metadata": {
        "id": "419GMz8J0IXd",
        "colab_type": "code",
        "colab": {
          "base_uri": "https://localhost:8080/",
          "height": 187
        },
        "outputId": "20e8f595-2dd9-4ef1-c011-39cc420085b5"
      },
      "source": [
        "nltk.download('punkt')\n",
        "nltk.download('wordnet')\n",
        "nltk.download('names')\n",
        "nltk.download('stopwords')\n",
        "nltk.download('vader_lexicon')"
      ],
      "execution_count": null,
      "outputs": [
        {
          "output_type": "stream",
          "text": [
            "[nltk_data] Downloading package punkt to /root/nltk_data...\n",
            "[nltk_data]   Unzipping tokenizers/punkt.zip.\n",
            "[nltk_data] Downloading package wordnet to /root/nltk_data...\n",
            "[nltk_data]   Unzipping corpora/wordnet.zip.\n",
            "[nltk_data] Downloading package names to /root/nltk_data...\n",
            "[nltk_data]   Unzipping corpora/names.zip.\n",
            "[nltk_data] Downloading package stopwords to /root/nltk_data...\n",
            "[nltk_data]   Unzipping corpora/stopwords.zip.\n",
            "[nltk_data] Downloading package vader_lexicon to /root/nltk_data...\n"
          ],
          "name": "stdout"
        },
        {
          "output_type": "execute_result",
          "data": {
            "text/plain": [
              "True"
            ]
          },
          "metadata": {
            "tags": []
          },
          "execution_count": 2
        }
      ]
    },
    {
      "cell_type": "code",
      "metadata": {
        "id": "JbHUi8Zn0KWn",
        "colab_type": "code",
        "colab": {
          "base_uri": "https://localhost:8080/",
          "height": 71
        },
        "outputId": "acf0a415-2cb4-4a5a-8a85-2e16a5ca0a20"
      },
      "source": [
        "from google.colab import drive\n",
        "drive.mount('/content/gdrive')\n",
        "root_path = '/content/gdrive/My Drive/Colab Notebooks/'\n",
        "\n",
        "location = root_path+\"12dancingprincesses.txt\"\n",
        "\n",
        "with open(location, encoding='cp1252') as text:\n",
        "    princesses = text.readlines()\n",
        "    print(princesses)\n"
      ],
      "execution_count": null,
      "outputs": [
        {
          "output_type": "stream",
          "text": [
            "Drive already mounted at /content/gdrive; to attempt to forcibly remount, call drive.mount(\"/content/gdrive\", force_remount=True).\n",
            "['THE TWELVE DANCING PRINCESSES\\n', '\\n', 'There was a king who had twelve beautiful daughters. They slept in\\n', 'twelve beds all in one room; and when they went to bed, the doors were\\n', 'shut and locked up; but every morning their shoes were found to be quite\\n', 'worn through as if they had been danced in all night; and yet nobody\\n', 'could find out how it happened, or where they had been.\\n', '\\n', 'Then the king made it known to all the land, that if any person could\\n', 'discover the secret, and find out where it was that the princesses\\n', 'danced in the night, he should have the one he liked best for his\\n', 'wife, and should be king after his death; but whoever tried and did not\\n', 'succeed, after three days and nights, should be put to death.\\n', '\\n', 'A king’s son soon came. He was well entertained, and in the evening was\\n', 'taken to the chamber next to the one where the princesses lay in their\\n', 'twelve beds. There he was to sit and watch where they went to dance;\\n', 'and, in order that nothing might pass without his hearing it, the door\\n', 'of his chamber was left open. But the king’s son soon fell asleep; and\\n', 'when he awoke in the morning he found that the princesses had all been\\n', 'dancing, for the soles of their shoes were full of holes. The same thing\\n', 'happened the second and third night: so the king ordered his head to be\\n', 'cut off. After him came several others; but they had all the same luck,\\n', 'and all lost their lives in the same manner.\\n', '\\n', 'Now it chanced that an old soldier, who had been wounded in battle\\n', 'and could fight no longer, passed through the country where this king\\n', 'reigned: and as he was travelling through a wood, he met an old woman,\\n', 'who asked him where he was going. ‘I hardly know where I am going, or\\n', 'what I had better do,’ said the soldier; ‘but I think I should like very\\n', 'well to find out where it is that the princesses dance, and then in time\\n', 'I might be a king.’ ‘Well,’ said the old dame, ‘that is no very hard\\n', 'task: only take care not to drink any of the wine which one of the\\n', 'princesses will bring to you in the evening; and as soon as she leaves\\n', 'you pretend to be fast asleep.’\\n', '\\n', 'Then she gave him a cloak, and said, ‘As soon as you put that on\\n', 'you will become invisible, and you will then be able to follow the\\n', 'princesses wherever they go.’ When the soldier heard all this good\\n', 'counsel, he determined to try his luck: so he went to the king, and said\\n', 'he was willing to undertake the task.\\n', '\\n', 'He was as well received as the others had been, and the king ordered\\n', 'fine royal robes to be given him; and when the evening came he was led\\n', 'to the outer chamber. Just as he was going to lie down, the eldest of\\n', 'the princesses brought him a cup of wine; but the soldier threw it all\\n', 'away secretly, taking care not to drink a drop. Then he laid himself\\n', 'down on his bed, and in a little while began to snore very loud as if\\n', 'he was fast asleep. When the twelve princesses heard this they laughed\\n', 'heartily; and the eldest said, ‘This fellow too might have done a wiser\\n', 'thing than lose his life in this way!’ Then they rose up and opened\\n', 'their drawers and boxes, and took out all their fine clothes, and\\n', 'dressed themselves at the glass, and skipped about as if they were eager\\n', 'to begin dancing. But the youngest said, ‘I don’t know how it is, while\\n', 'you are so happy I feel very uneasy; I am sure some mischance will\\n', 'befall us.’ ‘You simpleton,’ said the eldest, ‘you are always afraid;\\n', 'have you forgotten how many kings’ sons have already watched in vain?\\n', 'And as for this soldier, even if I had not given him his sleeping\\n', 'draught, he would have slept soundly enough.’\\n', '\\n', 'When they were all ready, they went and looked at the soldier; but he\\n', 'snored on, and did not stir hand or foot: so they thought they were\\n', 'quite safe; and the eldest went up to her own bed and clapped her hands,\\n', 'and the bed sank into the floor and a trap-door flew open. The soldier\\n', 'saw them going down through the trap-door one after another, the eldest\\n', 'leading the way; and thinking he had no time to lose, he jumped up, put\\n', 'on the cloak which the old woman had given him, and followed them;\\n', 'but in the middle of the stairs he trod on the gown of the youngest\\n', 'princess, and she cried out to her sisters, ‘All is not right; someone\\n', 'took hold of my gown.’ ‘You silly creature!’ said the eldest, ‘it is\\n', 'nothing but a nail in the wall.’ Then down they all went, and at the\\n', 'bottom they found themselves in a most delightful grove of trees; and\\n', 'the leaves were all of silver, and glittered and sparkled beautifully.\\n', 'The soldier wished to take away some token of the place; so he broke\\n', 'off a little branch, and there came a loud noise from the tree. Then the\\n', 'youngest daughter said again, ‘I am sure all is not right--did not you\\n', 'hear that noise? That never happened before.’ But the eldest said, ‘It\\n', 'is only our princes, who are shouting for joy at our approach.’\\n', '\\n', 'Then they came to another grove of trees, where all the leaves were of\\n', 'gold; and afterwards to a third, where the leaves were all glittering\\n', 'diamonds. And the soldier broke a branch from each; and every time there\\n', 'was a loud noise, which made the youngest sister tremble with fear; but\\n', 'the eldest still said, it was only the princes, who were crying for joy.\\n', 'So they went on till they came to a great lake; and at the side of the\\n', 'lake there lay twelve little boats with twelve handsome princes in them,\\n', 'who seemed to be waiting there for the princesses.\\n', '\\n', 'One of the princesses went into each boat, and the soldier stepped into\\n', 'the same boat with the youngest. As they were rowing over the lake, the\\n', 'prince who was in the boat with the youngest princess and the soldier\\n', 'said, ‘I do not know why it is, but though I am rowing with all my might\\n', 'we do not get on so fast as usual, and I am quite tired: the boat\\n', 'seems very heavy today.’ ‘It is only the heat of the weather,’ said the\\n', 'princess: ‘I feel it very warm too.’\\n', '\\n', 'On the other side of the lake stood a fine illuminated castle, from\\n', 'which came the merry music of horns and trumpets. There they all landed,\\n', 'and went into the castle, and each prince danced with his princess; and\\n', 'the soldier, who was all the time invisible, danced with them too; and\\n', 'when any of the princesses had a cup of wine set by her, he drank it\\n', 'all up, so that when she put the cup to her mouth it was empty. At this,\\n', 'too, the youngest sister was terribly frightened, but the eldest always\\n', 'silenced her. They danced on till three o’clock in the morning, and then\\n', 'all their shoes were worn out, so that they were obliged to leave off.\\n', 'The princes rowed them back again over the lake (but this time the\\n', 'soldier placed himself in the boat with the eldest princess); and on the\\n', 'opposite shore they took leave of each other, the princesses promising\\n', 'to come again the next night.\\n', '\\n', 'When they came to the stairs, the soldier ran on before the princesses,\\n', 'and laid himself down; and as the twelve sisters slowly came up very\\n', 'much tired, they heard him snoring in his bed; so they said, ‘Now all\\n', 'is quite safe’; then they undressed themselves, put away their fine\\n', 'clothes, pulled off their shoes, and went to bed. In the morning the\\n', 'soldier said nothing about what had happened, but determined to see more\\n', 'of this strange adventure, and went again the second and third night;\\n', 'and every thing happened just as before; the princesses danced each time\\n', 'till their shoes were worn to pieces, and then returned home. However,\\n', 'on the third night the soldier carried away one of the golden cups as a\\n', 'token of where he had been.\\n', '\\n', 'As soon as the time came when he was to declare the secret, he was taken\\n', 'before the king with the three branches and the golden cup; and the\\n', 'twelve princesses stood listening behind the door to hear what he would\\n', 'say. And when the king asked him. ‘Where do my twelve daughters dance at\\n', 'night?’ he answered, ‘With twelve princes in a castle under ground.’ And\\n', 'then he told the king all that had happened, and showed him the three\\n', 'branches and the golden cup which he had brought with him. Then the king\\n', 'called for the princesses, and asked them whether what the soldier said\\n', 'was true: and when they saw that they were discovered, and that it was\\n', 'of no use to deny what had happened, they confessed it all. And the king\\n', 'asked the soldier which of them he would choose for his wife; and he\\n', 'answered, ‘I am not very young, so I will have the eldest.’--And they\\n', 'were married that very day, and the soldier was chosen to be the king’s\\n', 'heir.']\n"
          ],
          "name": "stdout"
        }
      ]
    },
    {
      "cell_type": "code",
      "metadata": {
        "id": "_KyeqVe61LgR",
        "colab_type": "code",
        "colab": {
          "base_uri": "https://localhost:8080/",
          "height": 34
        },
        "outputId": "d85097fa-e779-403f-adef-2826748999ab"
      },
      "source": [
        "type(princesses)"
      ],
      "execution_count": null,
      "outputs": [
        {
          "output_type": "execute_result",
          "data": {
            "text/plain": [
              "list"
            ]
          },
          "metadata": {
            "tags": []
          },
          "execution_count": 14
        }
      ]
    },
    {
      "cell_type": "code",
      "metadata": {
        "id": "qzJxCsEd162E",
        "colab_type": "code",
        "colab": {}
      },
      "source": [
        "text = ''\n",
        "for word in princesses:\n",
        "  text += word\n",
        "text=text.lower()"
      ],
      "execution_count": null,
      "outputs": []
    },
    {
      "cell_type": "code",
      "metadata": {
        "id": "FGYvkb742UFy",
        "colab_type": "code",
        "colab": {}
      },
      "source": [
        "tknz_wct = word_tokenize(text)"
      ],
      "execution_count": null,
      "outputs": []
    },
    {
      "cell_type": "code",
      "metadata": {
        "id": "F7pB9t1n2Zpv",
        "colab_type": "code",
        "colab": {
          "base_uri": "https://localhost:8080/",
          "height": 34
        },
        "outputId": "8172045c-d18e-4eae-9ac9-b23ec213a3d9"
      },
      "source": [
        "len(tknz_wct)"
      ],
      "execution_count": null,
      "outputs": [
        {
          "output_type": "execute_result",
          "data": {
            "text/plain": [
              "1849"
            ]
          },
          "metadata": {
            "tags": []
          },
          "execution_count": 20
        }
      ]
    },
    {
      "cell_type": "code",
      "metadata": {
        "id": "bT-v1KM22crx",
        "colab_type": "code",
        "colab": {
          "base_uri": "https://localhost:8080/",
          "height": 34
        },
        "outputId": "e9f5cadf-f07e-4d18-a0d3-9d7364dc88a5"
      },
      "source": [
        "#look at the first five tokens in the list\n",
        "tknz_wct[:5]"
      ],
      "execution_count": null,
      "outputs": [
        {
          "output_type": "execute_result",
          "data": {
            "text/plain": [
              "['the', 'twelve', 'dancing', 'princesses', 'there']"
            ]
          },
          "metadata": {
            "tags": []
          },
          "execution_count": 21
        }
      ]
    },
    {
      "cell_type": "code",
      "metadata": {
        "id": "xYLrGSzA2dy8",
        "colab_type": "code",
        "colab": {
          "base_uri": "https://localhost:8080/",
          "height": 1000
        },
        "outputId": "d8cbb7cb-6438-47b8-e5e7-ca2cff363c47"
      },
      "source": [
        "#the NLTK FreqDist gives a count for how often each part of the text occurs\n",
        "fd_wct = FreqDist(tknz_wct)\n",
        "fd_wct"
      ],
      "execution_count": null,
      "outputs": [
        {
          "output_type": "execute_result",
          "data": {
            "text/plain": [
              "FreqDist({'!': 2,\n",
              "          '(': 1,\n",
              "          ')': 1,\n",
              "          ',': 102,\n",
              "          '--': 2,\n",
              "          '.': 35,\n",
              "          ':': 8,\n",
              "          ';': 35,\n",
              "          '?': 3,\n",
              "          'a': 22,\n",
              "          'able': 1,\n",
              "          'about': 2,\n",
              "          'adventure': 1,\n",
              "          'afraid': 1,\n",
              "          'after': 4,\n",
              "          'afterwards': 1,\n",
              "          'again': 4,\n",
              "          'all': 24,\n",
              "          'already': 1,\n",
              "          'always': 2,\n",
              "          'am': 6,\n",
              "          'an': 2,\n",
              "          'and': 78,\n",
              "          'another': 2,\n",
              "          'answered': 2,\n",
              "          'any': 3,\n",
              "          'approach.': 1,\n",
              "          'are': 3,\n",
              "          'as': 19,\n",
              "          'asked': 4,\n",
              "          'asleep': 2,\n",
              "          'asleep.': 1,\n",
              "          'at': 7,\n",
              "          'away': 4,\n",
              "          'awoke': 1,\n",
              "          'back': 1,\n",
              "          'battle': 1,\n",
              "          'be': 10,\n",
              "          'beautiful': 1,\n",
              "          'beautifully': 1,\n",
              "          'become': 1,\n",
              "          'bed': 6,\n",
              "          'beds': 2,\n",
              "          'been': 6,\n",
              "          'befall': 1,\n",
              "          'before': 3,\n",
              "          'before.': 1,\n",
              "          'began': 1,\n",
              "          'begin': 1,\n",
              "          'behind': 1,\n",
              "          'best': 1,\n",
              "          'better': 1,\n",
              "          'boat': 5,\n",
              "          'boats': 1,\n",
              "          'bottom': 1,\n",
              "          'boxes': 1,\n",
              "          'branch': 2,\n",
              "          'branches': 2,\n",
              "          'bring': 1,\n",
              "          'broke': 2,\n",
              "          'brought': 2,\n",
              "          'but': 16,\n",
              "          'by': 1,\n",
              "          'called': 1,\n",
              "          'came': 10,\n",
              "          'care': 2,\n",
              "          'carried': 1,\n",
              "          'castle': 3,\n",
              "          'chamber': 3,\n",
              "          'chanced': 1,\n",
              "          'choose': 1,\n",
              "          'chosen': 1,\n",
              "          'clapped': 1,\n",
              "          'cloak': 2,\n",
              "          'clock': 1,\n",
              "          'clothes': 2,\n",
              "          'come': 1,\n",
              "          'confessed': 1,\n",
              "          'could': 3,\n",
              "          'counsel': 1,\n",
              "          'country': 1,\n",
              "          'creature': 1,\n",
              "          'cried': 1,\n",
              "          'crying': 1,\n",
              "          'cup': 5,\n",
              "          'cups': 1,\n",
              "          'cut': 1,\n",
              "          'dame': 1,\n",
              "          'dance': 3,\n",
              "          'danced': 6,\n",
              "          'dancing': 3,\n",
              "          'daughter': 1,\n",
              "          'daughters': 2,\n",
              "          'day': 1,\n",
              "          'days': 1,\n",
              "          'death': 2,\n",
              "          'declare': 1,\n",
              "          'delightful': 1,\n",
              "          'deny': 1,\n",
              "          'determined': 2,\n",
              "          'diamonds': 1,\n",
              "          'did': 3,\n",
              "          'discover': 1,\n",
              "          'discovered': 1,\n",
              "          'do': 4,\n",
              "          'don': 1,\n",
              "          'done': 1,\n",
              "          'door': 2,\n",
              "          'doors': 1,\n",
              "          'down': 5,\n",
              "          'drank': 1,\n",
              "          'draught': 1,\n",
              "          'drawers': 1,\n",
              "          'dressed': 1,\n",
              "          'drink': 2,\n",
              "          'drop': 1,\n",
              "          'each': 5,\n",
              "          'eager': 1,\n",
              "          'eldest': 10,\n",
              "          'eldest.': 1,\n",
              "          'empty': 1,\n",
              "          'enough.': 1,\n",
              "          'entertained': 1,\n",
              "          'even': 1,\n",
              "          'evening': 3,\n",
              "          'every': 3,\n",
              "          'fast': 3,\n",
              "          'fear': 1,\n",
              "          'feel': 2,\n",
              "          'fell': 1,\n",
              "          'fellow': 1,\n",
              "          'fight': 1,\n",
              "          'find': 3,\n",
              "          'fine': 4,\n",
              "          'flew': 1,\n",
              "          'floor': 1,\n",
              "          'follow': 1,\n",
              "          'followed': 1,\n",
              "          'foot': 1,\n",
              "          'for': 8,\n",
              "          'forgotten': 1,\n",
              "          'found': 3,\n",
              "          'frightened': 1,\n",
              "          'from': 3,\n",
              "          'full': 1,\n",
              "          'gave': 1,\n",
              "          'get': 1,\n",
              "          'given': 3,\n",
              "          'glass': 1,\n",
              "          'glittered': 1,\n",
              "          'glittering': 1,\n",
              "          'go.': 1,\n",
              "          'going': 4,\n",
              "          'gold': 1,\n",
              "          'golden': 3,\n",
              "          'good': 1,\n",
              "          'gown': 1,\n",
              "          'gown.': 1,\n",
              "          'great': 1,\n",
              "          'ground.': 1,\n",
              "          'grove': 2,\n",
              "          'had': 17,\n",
              "          'hand': 1,\n",
              "          'hands': 1,\n",
              "          'handsome': 1,\n",
              "          'happened': 7,\n",
              "          'happy': 1,\n",
              "          'hard': 1,\n",
              "          'hardly': 1,\n",
              "          'have': 6,\n",
              "          'he': 33,\n",
              "          'head': 1,\n",
              "          'hear': 2,\n",
              "          'heard': 3,\n",
              "          'hearing': 1,\n",
              "          'heartily': 1,\n",
              "          'heat': 1,\n",
              "          'heavy': 1,\n",
              "          'heir': 1,\n",
              "          'her': 6,\n",
              "          'him': 11,\n",
              "          'himself': 3,\n",
              "          'his': 12,\n",
              "          'hold': 1,\n",
              "          'holes': 1,\n",
              "          'home': 1,\n",
              "          'horns': 1,\n",
              "          'how': 3,\n",
              "          'however': 1,\n",
              "          'i': 17,\n",
              "          'if': 5,\n",
              "          'illuminated': 1,\n",
              "          'in': 25,\n",
              "          'into': 4,\n",
              "          'invisible': 2,\n",
              "          'is': 10,\n",
              "          'it': 18,\n",
              "          'joy': 2,\n",
              "          'jumped': 1,\n",
              "          'just': 2,\n",
              "          'king': 15,\n",
              "          'king.': 1,\n",
              "          'kings': 1,\n",
              "          'know': 3,\n",
              "          'known': 1,\n",
              "          'laid': 2,\n",
              "          'lake': 5,\n",
              "          'land': 1,\n",
              "          'landed': 1,\n",
              "          'laughed': 1,\n",
              "          'lay': 2,\n",
              "          'leading': 1,\n",
              "          'leave': 2,\n",
              "          'leaves': 4,\n",
              "          'led': 1,\n",
              "          'left': 1,\n",
              "          'lie': 1,\n",
              "          'life': 1,\n",
              "          'like': 1,\n",
              "          'liked': 1,\n",
              "          'listening': 1,\n",
              "          'little': 3,\n",
              "          'lives': 1,\n",
              "          'locked': 1,\n",
              "          'longer': 1,\n",
              "          'looked': 1,\n",
              "          'lose': 2,\n",
              "          'lost': 1,\n",
              "          'loud': 3,\n",
              "          'luck': 2,\n",
              "          'made': 2,\n",
              "          'manner': 1,\n",
              "          'many': 1,\n",
              "          'married': 1,\n",
              "          'merry': 1,\n",
              "          'met': 1,\n",
              "          'middle': 1,\n",
              "          'might': 4,\n",
              "          'mischance': 1,\n",
              "          'more': 1,\n",
              "          'morning': 4,\n",
              "          'most': 1,\n",
              "          'mouth': 1,\n",
              "          'much': 1,\n",
              "          'music': 1,\n",
              "          'my': 3,\n",
              "          'nail': 1,\n",
              "          'never': 1,\n",
              "          'next': 2,\n",
              "          'night': 7,\n",
              "          'nights': 1,\n",
              "          'no': 4,\n",
              "          'nobody': 1,\n",
              "          'noise': 3,\n",
              "          'not': 11,\n",
              "          'nothing': 3,\n",
              "          'now': 2,\n",
              "          'o': 1,\n",
              "          'obliged': 1,\n",
              "          'of': 28,\n",
              "          'off': 4,\n",
              "          'old': 4,\n",
              "          'on': 12,\n",
              "          'one': 7,\n",
              "          'only': 4,\n",
              "          'open': 2,\n",
              "          'opened': 1,\n",
              "          'opposite': 1,\n",
              "          'or': 3,\n",
              "          'order': 1,\n",
              "          'ordered': 2,\n",
              "          'other': 2,\n",
              "          'others': 2,\n",
              "          'our': 2,\n",
              "          'out': 6,\n",
              "          'outer': 1,\n",
              "          'over': 2,\n",
              "          'own': 1,\n",
              "          'pass': 1,\n",
              "          'passed': 1,\n",
              "          'person': 1,\n",
              "          'pieces': 1,\n",
              "          'place': 1,\n",
              "          'placed': 1,\n",
              "          'pretend': 1,\n",
              "          'prince': 2,\n",
              "          'princes': 5,\n",
              "          'princess': 5,\n",
              "          'princesses': 17,\n",
              "          'promising': 1,\n",
              "          'pulled': 1,\n",
              "          'put': 5,\n",
              "          'quite': 4,\n",
              "          'ran': 1,\n",
              "          'ready': 1,\n",
              "          'received': 1,\n",
              "          'reigned': 1,\n",
              "          'returned': 1,\n",
              "          'right': 2,\n",
              "          'robes': 1,\n",
              "          'room': 1,\n",
              "          'rose': 1,\n",
              "          'rowed': 1,\n",
              "          'rowing': 2,\n",
              "          'royal': 1,\n",
              "          's': 3,\n",
              "          'safe': 2,\n",
              "          'said': 16,\n",
              "          'same': 4,\n",
              "          'sank': 1,\n",
              "          'saw': 2,\n",
              "          'say': 1,\n",
              "          'second': 2,\n",
              "          'secret': 2,\n",
              "          'secretly': 1,\n",
              "          'see': 1,\n",
              "          'seemed': 1,\n",
              "          'seems': 1,\n",
              "          'set': 1,\n",
              "          'several': 1,\n",
              "          'she': 4,\n",
              "          'shoes': 5,\n",
              "          'shore': 1,\n",
              "          'should': 4,\n",
              "          'shouting': 1,\n",
              "          'showed': 1,\n",
              "          'shut': 1,\n",
              "          'side': 2,\n",
              "          'silenced': 1,\n",
              "          'silly': 1,\n",
              "          'silver': 1,\n",
              "          'simpleton': 1,\n",
              "          'sister': 2,\n",
              "          'sisters': 2,\n",
              "          'sit': 1,\n",
              "          'skipped': 1,\n",
              "          'sleeping': 1,\n",
              "          'slept': 2,\n",
              "          'slowly': 1,\n",
              "          'snore': 1,\n",
              "          'snored': 1,\n",
              "          'snoring': 1,\n",
              "          'so': 11,\n",
              "          'soldier': 19,\n",
              "          'soles': 1,\n",
              "          'some': 2,\n",
              "          'someone': 1,\n",
              "          'son': 2,\n",
              "          'sons': 1,\n",
              "          'soon': 5,\n",
              "          'soundly': 1,\n",
              "          'sparkled': 1,\n",
              "          'stairs': 2,\n",
              "          'stepped': 1,\n",
              "          'still': 1,\n",
              "          'stir': 1,\n",
              "          'stood': 2,\n",
              "          'strange': 1,\n",
              "          'succeed': 1,\n",
              "          'sure': 2,\n",
              "          't': 1,\n",
              "          'take': 2,\n",
              "          'taken': 2,\n",
              "          'taking': 1,\n",
              "          'task': 2,\n",
              "          'terribly': 1,\n",
              "          'than': 1,\n",
              "          'that': 16,\n",
              "          'the': 139,\n",
              "          'their': 10,\n",
              "          'them': 7,\n",
              "          'themselves': 3,\n",
              "          'then': 14,\n",
              "          'there': 7,\n",
              "          'they': 32,\n",
              "          'thing': 3,\n",
              "          'think': 1,\n",
              "          'thinking': 1,\n",
              "          'third': 4,\n",
              "          'this': 9,\n",
              "          'though': 1,\n",
              "          'thought': 1,\n",
              "          'three': 4,\n",
              "          'threw': 1,\n",
              "          'through': 4,\n",
              "          'till': 3,\n",
              "          'time': 7,\n",
              "          'tired': 2,\n",
              "          'to': 42,\n",
              "          'today.': 1,\n",
              "          'token': 2,\n",
              "          'told': 1,\n",
              "          'too': 3,\n",
              "          'too.': 1,\n",
              "          'took': 3,\n",
              "          'trap-door': 2,\n",
              "          'travelling': 1,\n",
              "          'tree': 1,\n",
              "          'trees': 2,\n",
              "          'tremble': 1,\n",
              "          'tried': 1,\n",
              "          'trod': 1,\n",
              "          'true': 1,\n",
              "          'trumpets': 1,\n",
              "          'try': 1,\n",
              "          'twelve': 11,\n",
              "          'under': 1,\n",
              "          'undertake': 1,\n",
              "          'undressed': 1,\n",
              "          'uneasy': 1,\n",
              "          'up': 6,\n",
              "          'us.': 1,\n",
              "          'use': 1,\n",
              "          'usual': 1,\n",
              "          'vain': 1,\n",
              "          'very': 9,\n",
              "          'waiting': 1,\n",
              "          'wall.': 1,\n",
              "          'warm': 1,\n",
              "          'was': 24,\n",
              "          'watch': 1,\n",
              "          'watched': 1,\n",
              "          'way': 2,\n",
              "          'we': 1,\n",
              "          'weather': 1,\n",
              "          'well': 4,\n",
              "          'went': 11,\n",
              "          'were': 16,\n",
              "          'what': 5,\n",
              "          'when': 12,\n",
              "          'where': 12,\n",
              "          'wherever': 1,\n",
              "          'whether': 1,\n",
              "          'which': 6,\n",
              "          'while': 2,\n",
              "          'who': 8,\n",
              "          'whoever': 1,\n",
              "          'why': 1,\n",
              "          'wife': 2,\n",
              "          'will': 5,\n",
              "          'willing': 1,\n",
              "          'wine': 3,\n",
              "          'wiser': 1,\n",
              "          'wished': 1,\n",
              "          'with': 11,\n",
              "          'without': 1,\n",
              "          'woman': 2,\n",
              "          'wood': 1,\n",
              "          'worn': 3,\n",
              "          'would': 3,\n",
              "          'wounded': 1,\n",
              "          'yet': 1,\n",
              "          'you': 11,\n",
              "          'young': 1,\n",
              "          'youngest': 7,\n",
              "          '‘': 21,\n",
              "          '’': 27})"
            ]
          },
          "metadata": {
            "tags": []
          },
          "execution_count": 22
        }
      ]
    },
    {
      "cell_type": "code",
      "metadata": {
        "id": "sXh2BC3p2gWp",
        "colab_type": "code",
        "colab": {
          "base_uri": "https://localhost:8080/",
          "height": 187
        },
        "outputId": "948d125c-c5b2-4b76-df0d-0e1d65102830"
      },
      "source": [
        "#shows the top 10 words in the text\n",
        "fd_wct.most_common(10)"
      ],
      "execution_count": null,
      "outputs": [
        {
          "output_type": "execute_result",
          "data": {
            "text/plain": [
              "[('the', 139),\n",
              " (',', 102),\n",
              " ('and', 78),\n",
              " ('to', 42),\n",
              " ('.', 35),\n",
              " (';', 35),\n",
              " ('he', 33),\n",
              " ('they', 32),\n",
              " ('of', 28),\n",
              " ('’', 27)]"
            ]
          },
          "metadata": {
            "tags": []
          },
          "execution_count": 23
        }
      ]
    },
    {
      "cell_type": "code",
      "metadata": {
        "id": "g6z9pgMv2jKl",
        "colab_type": "code",
        "colab": {
          "base_uri": "https://localhost:8080/",
          "height": 34
        },
        "outputId": "14ff28a8-7c2f-4418-a385-3c034723f857"
      },
      "source": [
        "#number of tokens in list before puntuation removal\n",
        "len(tknz_wct)"
      ],
      "execution_count": null,
      "outputs": [
        {
          "output_type": "execute_result",
          "data": {
            "text/plain": [
              "1849"
            ]
          },
          "metadata": {
            "tags": []
          },
          "execution_count": 24
        }
      ]
    },
    {
      "cell_type": "code",
      "metadata": {
        "id": "Rgk1F5q12maL",
        "colab_type": "code",
        "colab": {
          "base_uri": "https://localhost:8080/",
          "height": 35
        },
        "outputId": "93e20c1a-a1fe-48c1-898b-6e07808570b1"
      },
      "source": [
        "punctuation"
      ],
      "execution_count": null,
      "outputs": [
        {
          "output_type": "execute_result",
          "data": {
            "application/vnd.google.colaboratory.intrinsic+json": {
              "type": "string"
            },
            "text/plain": [
              "'!\"#$%&\\'()*+,-./:;<=>?@[\\\\]^_`{|}~'"
            ]
          },
          "metadata": {
            "tags": []
          },
          "execution_count": 25
        }
      ]
    },
    {
      "cell_type": "code",
      "metadata": {
        "id": "kEHXju1g2_rY",
        "colab_type": "code",
        "colab": {}
      },
      "source": [
        "#remove the puntuation tokens from the list\n",
        "for token in tknz_wct:\n",
        "    if token in punctuation:\n",
        "        tknz_wct.remove(token)"
      ],
      "execution_count": null,
      "outputs": []
    },
    {
      "cell_type": "code",
      "metadata": {
        "id": "yDTfCiMW3CdW",
        "colab_type": "code",
        "colab": {
          "base_uri": "https://localhost:8080/",
          "height": 34
        },
        "outputId": "b0d08172-f46e-4522-e206-847d3514a975"
      },
      "source": [
        "#number of tokens in list after puntuation removal\n",
        "len(tknz_wct)"
      ],
      "execution_count": null,
      "outputs": [
        {
          "output_type": "execute_result",
          "data": {
            "text/plain": [
              "1663"
            ]
          },
          "metadata": {
            "tags": []
          },
          "execution_count": 27
        }
      ]
    },
    {
      "cell_type": "code",
      "metadata": {
        "id": "qcBrHJSf3FCp",
        "colab_type": "code",
        "colab": {
          "base_uri": "https://localhost:8080/",
          "height": 1000
        },
        "outputId": "73b2a509-1d3d-4c94-e123-e38829b78c8e"
      },
      "source": [
        "#list of english stopwords\n",
        "eng_stopwords = stopwords.words('english')\n",
        "eng_stopwords"
      ],
      "execution_count": null,
      "outputs": [
        {
          "output_type": "execute_result",
          "data": {
            "text/plain": [
              "['i',\n",
              " 'me',\n",
              " 'my',\n",
              " 'myself',\n",
              " 'we',\n",
              " 'our',\n",
              " 'ours',\n",
              " 'ourselves',\n",
              " 'you',\n",
              " \"you're\",\n",
              " \"you've\",\n",
              " \"you'll\",\n",
              " \"you'd\",\n",
              " 'your',\n",
              " 'yours',\n",
              " 'yourself',\n",
              " 'yourselves',\n",
              " 'he',\n",
              " 'him',\n",
              " 'his',\n",
              " 'himself',\n",
              " 'she',\n",
              " \"she's\",\n",
              " 'her',\n",
              " 'hers',\n",
              " 'herself',\n",
              " 'it',\n",
              " \"it's\",\n",
              " 'its',\n",
              " 'itself',\n",
              " 'they',\n",
              " 'them',\n",
              " 'their',\n",
              " 'theirs',\n",
              " 'themselves',\n",
              " 'what',\n",
              " 'which',\n",
              " 'who',\n",
              " 'whom',\n",
              " 'this',\n",
              " 'that',\n",
              " \"that'll\",\n",
              " 'these',\n",
              " 'those',\n",
              " 'am',\n",
              " 'is',\n",
              " 'are',\n",
              " 'was',\n",
              " 'were',\n",
              " 'be',\n",
              " 'been',\n",
              " 'being',\n",
              " 'have',\n",
              " 'has',\n",
              " 'had',\n",
              " 'having',\n",
              " 'do',\n",
              " 'does',\n",
              " 'did',\n",
              " 'doing',\n",
              " 'a',\n",
              " 'an',\n",
              " 'the',\n",
              " 'and',\n",
              " 'but',\n",
              " 'if',\n",
              " 'or',\n",
              " 'because',\n",
              " 'as',\n",
              " 'until',\n",
              " 'while',\n",
              " 'of',\n",
              " 'at',\n",
              " 'by',\n",
              " 'for',\n",
              " 'with',\n",
              " 'about',\n",
              " 'against',\n",
              " 'between',\n",
              " 'into',\n",
              " 'through',\n",
              " 'during',\n",
              " 'before',\n",
              " 'after',\n",
              " 'above',\n",
              " 'below',\n",
              " 'to',\n",
              " 'from',\n",
              " 'up',\n",
              " 'down',\n",
              " 'in',\n",
              " 'out',\n",
              " 'on',\n",
              " 'off',\n",
              " 'over',\n",
              " 'under',\n",
              " 'again',\n",
              " 'further',\n",
              " 'then',\n",
              " 'once',\n",
              " 'here',\n",
              " 'there',\n",
              " 'when',\n",
              " 'where',\n",
              " 'why',\n",
              " 'how',\n",
              " 'all',\n",
              " 'any',\n",
              " 'both',\n",
              " 'each',\n",
              " 'few',\n",
              " 'more',\n",
              " 'most',\n",
              " 'other',\n",
              " 'some',\n",
              " 'such',\n",
              " 'no',\n",
              " 'nor',\n",
              " 'not',\n",
              " 'only',\n",
              " 'own',\n",
              " 'same',\n",
              " 'so',\n",
              " 'than',\n",
              " 'too',\n",
              " 'very',\n",
              " 's',\n",
              " 't',\n",
              " 'can',\n",
              " 'will',\n",
              " 'just',\n",
              " 'don',\n",
              " \"don't\",\n",
              " 'should',\n",
              " \"should've\",\n",
              " 'now',\n",
              " 'd',\n",
              " 'll',\n",
              " 'm',\n",
              " 'o',\n",
              " 're',\n",
              " 've',\n",
              " 'y',\n",
              " 'ain',\n",
              " 'aren',\n",
              " \"aren't\",\n",
              " 'couldn',\n",
              " \"couldn't\",\n",
              " 'didn',\n",
              " \"didn't\",\n",
              " 'doesn',\n",
              " \"doesn't\",\n",
              " 'hadn',\n",
              " \"hadn't\",\n",
              " 'hasn',\n",
              " \"hasn't\",\n",
              " 'haven',\n",
              " \"haven't\",\n",
              " 'isn',\n",
              " \"isn't\",\n",
              " 'ma',\n",
              " 'mightn',\n",
              " \"mightn't\",\n",
              " 'mustn',\n",
              " \"mustn't\",\n",
              " 'needn',\n",
              " \"needn't\",\n",
              " 'shan',\n",
              " \"shan't\",\n",
              " 'shouldn',\n",
              " \"shouldn't\",\n",
              " 'wasn',\n",
              " \"wasn't\",\n",
              " 'weren',\n",
              " \"weren't\",\n",
              " 'won',\n",
              " \"won't\",\n",
              " 'wouldn',\n",
              " \"wouldn't\"]"
            ]
          },
          "metadata": {
            "tags": []
          },
          "execution_count": 28
        }
      ]
    },
    {
      "cell_type": "code",
      "metadata": {
        "id": "FSj_GFL03USN",
        "colab_type": "code",
        "colab": {}
      },
      "source": [
        "rm_count = 0\n",
        "new_words = []  #list to hold new words\n",
        "\n",
        "for token in tknz_wct:\n",
        "    if token not in eng_stopwords:\n",
        "        new_words.append(token)\n",
        "    else: rm_count += 1"
      ],
      "execution_count": null,
      "outputs": []
    },
    {
      "cell_type": "code",
      "metadata": {
        "id": "xJ61jD7l3Za6",
        "colab_type": "code",
        "colab": {
          "base_uri": "https://localhost:8080/",
          "height": 34
        },
        "outputId": "9cc33c3e-6f74-4032-e641-0599aa074abb"
      },
      "source": [
        "rm_count"
      ],
      "execution_count": null,
      "outputs": [
        {
          "output_type": "execute_result",
          "data": {
            "text/plain": [
              "944"
            ]
          },
          "metadata": {
            "tags": []
          },
          "execution_count": 30
        }
      ]
    },
    {
      "cell_type": "code",
      "metadata": {
        "id": "llj407Kt3ePJ",
        "colab_type": "code",
        "colab": {
          "base_uri": "https://localhost:8080/",
          "height": 34
        },
        "outputId": "ee1b83d9-c0f7-4175-822b-cb8dae271808"
      },
      "source": [
        "len(new_words)"
      ],
      "execution_count": null,
      "outputs": [
        {
          "output_type": "execute_result",
          "data": {
            "text/plain": [
              "719"
            ]
          },
          "metadata": {
            "tags": []
          },
          "execution_count": 31
        }
      ]
    },
    {
      "cell_type": "code",
      "metadata": {
        "id": "tYXBN0vQ30yY",
        "colab_type": "code",
        "colab": {
          "base_uri": "https://localhost:8080/",
          "height": 187
        },
        "outputId": "d55e0335-aa8a-4632-d238-e397deffd587"
      },
      "source": [
        "fd_nw = FreqDist(new_words)\n",
        "fd_nw.most_common(10)"
      ],
      "execution_count": null,
      "outputs": [
        {
          "output_type": "execute_result",
          "data": {
            "text/plain": [
              "[('’', 27),\n",
              " ('‘', 21),\n",
              " ('soldier', 19),\n",
              " ('princesses', 17),\n",
              " ('said', 16),\n",
              " ('king', 15),\n",
              " ('twelve', 11),\n",
              " ('went', 11),\n",
              " ('came', 10),\n",
              " ('eldest', 10)]"
            ]
          },
          "metadata": {
            "tags": []
          },
          "execution_count": 33
        }
      ]
    },
    {
      "cell_type": "code",
      "metadata": {
        "id": "fcOB8Tte32Ir",
        "colab_type": "code",
        "colab": {
          "base_uri": "https://localhost:8080/",
          "height": 35
        },
        "outputId": "b91b9149-17a4-42b2-9c25-5670f4ade171"
      },
      "source": [
        "new_punct = punctuation + \"’\"\n",
        "new_punct"
      ],
      "execution_count": null,
      "outputs": [
        {
          "output_type": "execute_result",
          "data": {
            "application/vnd.google.colaboratory.intrinsic+json": {
              "type": "string"
            },
            "text/plain": [
              "'!\"#$%&\\'()*+,-./:;<=>?@[\\\\]^_`{|}~’'"
            ]
          },
          "metadata": {
            "tags": []
          },
          "execution_count": 34
        }
      ]
    }
  ]
}